{
 "cells": [
  {
   "cell_type": "markdown",
   "metadata": {},
   "source": [
    "# Summary of my research projects\n",
    "\n",
    "> Track record of daily research.\n",
    "\n",
    "> Organize my work to be reproducible."
   ]
  },
  {
   "cell_type": "markdown",
   "metadata": {},
   "source": [
    "## List of working on projects\n",
    "\n",
    "- 1. SEQLinkage \n",
    "    - https://github.com/changebio/SEQLinkage\n",
    "- 2. Cstatgen \n",
    "    - https://github.com/changebio/cstatgen\n",
    "- 3. LDtools \n",
    "    - https://github.com/changebio/LDtools \n",
    "    - https://github.com/changebio/bioworkflows\n",
    "    - https://github.com/changebio/bioworkflows\n",
    "- 4. Alzheimers-family\n",
    "    - https://github.com/changebio/alzheimers-family"
   ]
  },
  {
   "cell_type": "code",
   "execution_count": null,
   "metadata": {},
   "outputs": [],
   "source": []
  }
 ],
 "metadata": {
  "kernelspec": {
   "display_name": "Python 3 (ipykernel)",
   "language": "python",
   "name": "python3"
  }
 },
 "nbformat": 4,
 "nbformat_minor": 4
}
