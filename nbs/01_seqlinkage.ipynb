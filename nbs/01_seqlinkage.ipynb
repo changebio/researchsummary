{
 "cells": [
  {
   "cell_type": "markdown",
   "metadata": {},
   "source": [
    "# Summary of SEQLinkage\n",
    "\n",
    "> [Collapsed Haplotype Pattern Method for Linkage Analysis of Next-Generation Sequencing Data](https://github.com/changebio/SEQLinkage)"
   ]
  },
  {
   "cell_type": "markdown",
   "metadata": {},
   "source": [
    "## Plans\n",
    "1. Phasing haplotypes in gene regions\n",
    "2. linkage analysis of all variants\n",
    "3. linkage analysis of CHP markers\n",
    "4. non-parametic analysis"
   ]
  },
  {
   "cell_type": "markdown",
   "metadata": {},
   "source": [
    "## 1. Working on\n",
    "- linkage analysis of all variants\n",
    "- linkage analysis of CHP markers"
   ]
  },
  {
   "cell_type": "markdown",
   "metadata": {},
   "source": [
    "## 2. Done\n",
    "- Phasing haplotypes in gene regions"
   ]
  },
  {
   "cell_type": "code",
   "execution_count": null,
   "metadata": {},
   "outputs": [],
   "source": []
  }
 ],
 "metadata": {
  "kernelspec": {
   "display_name": "Python 3 (ipykernel)",
   "language": "python",
   "name": "python3"
  }
 },
 "nbformat": 4,
 "nbformat_minor": 4
}
