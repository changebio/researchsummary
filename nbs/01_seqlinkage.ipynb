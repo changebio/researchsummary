{
 "cells": [
  {
   "cell_type": "markdown",
   "metadata": {},
   "source": [
    "# Summary of SEQLinkage\n",
    "\n",
    "> [Collapsed Haplotype Pattern Method for Linkage Analysis of Next-Generation Sequencing Data](https://github.com/changebio/SEQLinkage)"
   ]
  },
  {
   "cell_type": "markdown",
   "metadata": {},
   "source": [
    "## 1. Working on"
   ]
  },
  {
   "cell_type": "markdown",
   "metadata": {},
   "source": [
    "## 2. Issues"
   ]
  },
  {
   "cell_type": "markdown",
   "metadata": {},
   "source": [
    "- 1.[the vcf file and the annotation file don't match](https://github.com/gaow/SEQLinkage/issues/34)\n",
    "- 2.[A potential problem with calculating marker frequencies.](https://github.com/gaow/SEQLinkage/issues/33)"
   ]
  },
  {
   "cell_type": "markdown",
   "metadata": {},
   "source": [
    "## 3. Done"
   ]
  },
  {
   "cell_type": "code",
   "execution_count": null,
   "metadata": {},
   "outputs": [],
   "source": []
  }
 ],
 "metadata": {
  "kernelspec": {
   "display_name": "Python 3 (ipykernel)",
   "language": "python",
   "name": "python3"
  }
 },
 "nbformat": 4,
 "nbformat_minor": 4
}
