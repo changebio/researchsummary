{
 "cells": [
  {
   "cell_type": "raw",
   "metadata": {},
   "source": [
    "---\n",
    "description: Need to be discussed(https://github.com/changebio/LDtools)\n",
    "output-file: ldtools.html\n",
    "title: Summary of LDtools\n",
    "\n",
    "---\n",
    "\n"
   ]
  },
  {
   "cell_type": "markdown",
   "metadata": {},
   "source": [
    "## From Gao\n",
    "### Objective\n",
    "\n",
    "It is non-trivial to handle all these data merger and region extraction etc for integrative analysis. I would like to revisit and extend LDtools as a utility package to handle summary stats data in the context of data integration -- including fine-mapping, LDSC, PRS, TWAS.\n",
    "\n",
    "### Relevant existing tools\n",
    "\n",
    "LDtools developed by @changebio for our analysis pipelines.\n",
    "Polyfun software has some utility functions to compute LD by chunks, with PLINK input format\n",
    "https://github.com/omerwe/polyfun/blob/master/finemapper.py#L476\n",
    "as well as with bgen format in which case ldstore is used\n",
    "https://github.com/omerwe/polyfun/blob/master/finemapper.py#L385\n",
    "bigsnpr::snp_match\n",
    "https://rdrr.io/github/MichelNivard/GenomicSEM/man/sumstats.html\n",
    "https://github.com/precimed/python_convert\n",
    "https://github.com/matthijsz/pysumstats\n",
    "https://bioconductor.riken.jp/packages/3.14/bioc/vignettes/MungeSumstats/inst/doc/MungeSumstats.html\n",
    "Google search sumstats or gwas summary statistics there are various repos on github\n",
    "As a user, I would rather use ldsc code than LDtools because at least they are better tested (by application to multiple papers and dataset). I wish LDtools had used some of these code so we don't reinvent the wheel. However, what polyfun/ldsc has is not good enough.\n",
    "\n",
    "Also, survey each application fine-mapping, LDSC, PRS, TWAS and comment on how they handle the issue.\n",
    "\n",
    "### Proposal\n",
    "\n",
    "Let's take a look at polyfun/ldsc and other related codes, and rework LDtools if their implementation is better. LDtools also contains many other features. Here is the scope of the proposed extended tool:\n",
    "\n",
    "Support VCF summary statistics format: convert and combine summary stats in VCF format (possibly through rpy2 to the gwas_vcf R package)\n",
    "Merge summary stats and make sign flips deserves a comprehensive discussion\n",
    "Compute LD for given region, adjusting for covariates and GRM ; need to support VCF, bgen and plink\n",
    "Built-in liftover for summary stats or LD index\n",
    "Other data integration utility features we use repeatedly in xqtl-pipeline, as we move forward with the analysis"
   ]
  },
  {
   "cell_type": "markdown",
   "metadata": {},
   "source": [
    "## 1. Working on"
   ]
  },
  {
   "cell_type": "markdown",
   "metadata": {},
   "source": [
    "## 2. Issues"
   ]
  },
  {
   "cell_type": "markdown",
   "metadata": {},
   "source": [
    "## 3. Done"
   ]
  },
  {
   "cell_type": "code",
   "execution_count": null,
   "metadata": {},
   "outputs": [],
   "source": []
  }
 ],
 "metadata": {
  "kernelspec": {
   "display_name": "Python 3 (ipykernel)",
   "language": "python",
   "name": "python3"
  }
 },
 "nbformat": 4,
 "nbformat_minor": 4
}
