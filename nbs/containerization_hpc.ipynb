{
 "cells": [
  {
   "cell_type": "markdown",
   "id": "2ece15eb-49b5-4b96-a23e-4de83818f428",
   "metadata": {},
   "source": [
    "singularity shell container/sifs/bioinfo.sif \n",
    "\n",
    "https://sylabs.io/guides/3.0/user-guide/running_services.html"
   ]
  },
  {
   "cell_type": "code",
   "execution_count": null,
   "id": "f9329753-c4f7-48a7-b444-212d70a67219",
   "metadata": {},
   "outputs": [],
   "source": []
  }
 ],
 "metadata": {
  "kernelspec": {
   "display_name": "Python 3 (ipykernel)",
   "language": "python",
   "name": "python3"
  }
 },
 "nbformat": 4,
 "nbformat_minor": 5
}
