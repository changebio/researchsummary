{
 "cells": [
  {
   "cell_type": "code",
   "execution_count": null,
   "metadata": {},
   "outputs": [],
   "source": [
    "# default_exp weekly"
   ]
  },
  {
   "cell_type": "markdown",
   "metadata": {},
   "source": [
    "# Weekly Discussion\n",
    "\n",
    "> Summary about the progress and issues in the week"
   ]
  },
  {
   "cell_type": "markdown",
   "metadata": {},
   "source": [
    "## 02/17/2022\n",
    "### 1. The format of daily PR\n",
    "- https://changebio.github.io/researchsummary/\n",
    "\n",
    "### 2. SEQLinkage\n",
    "\n",
    "#### Progress\n",
    "\n",
    "- Implement get AF from annotation.\n",
    "- Fix maf bug by reverse genotype if maf > 0.5. [A potential problem with calculating marker frequencies.](https://github.com/gaow/SEQLinkage/issues/33)\n",
    "- Fix output format and path bugs.\n",
    "- Update the command line script.\n",
    "- Running likange analysis on chr22\n",
    "\n",
    "---\n",
    "- Yu's data. VCF_QC has been done. Telled her the path of the data\n",
    "\n",
    "#### Questions and Issues\n",
    "- 1.[the vcf file and the annotation file don't match](https://github.com/gaow/SEQLinkage/issues/34)\n",
    "- 2.missing freq or 0 freq are assigned a MAF of (1-k)/2n. k is the fraction of singletons observed (need clarify)\n",
    "- 3.Do we need to do VCF QC for the family data?"
   ]
  },
  {
   "cell_type": "code",
   "execution_count": null,
   "metadata": {},
   "outputs": [],
   "source": []
  }
 ],
 "metadata": {
  "kernelspec": {
   "display_name": "Python 3 (ipykernel)",
   "language": "python",
   "name": "python3"
  }
 },
 "nbformat": 4,
 "nbformat_minor": 4
}
